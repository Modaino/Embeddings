{
 "cells": [
  {
   "cell_type": "code",
   "execution_count": 7,
   "metadata": {},
   "outputs": [],
   "source": [
    "using IJulia\n",
    "using Manopt, Manifolds, Random, LinearAlgebra, ManifoldDiff\n",
    "using ManifoldDiff: grad_distance, prox_distance\n",
    "using DifferentialEquations, DiffEqCallbacks\n",
    "using Plots, DataFrames\n",
    "using DelimitedFiles"
   ]
  },
  {
   "cell_type": "markdown",
   "metadata": {},
   "source": [
    "### Misc functions"
   ]
  },
  {
   "cell_type": "code",
   "execution_count": 8,
   "metadata": {},
   "outputs": [],
   "source": [
    "function load_QAP_data(file_path::String)\n",
    "    open(file_path, \"r\") do io\n",
    "        # Read the integer (first line)\n",
    "        n = parse(Int, readline(io))\n",
    "        \n",
    "        # Skip the empty line\n",
    "        readline(io)\n",
    "        \n",
    "        # Read the first matrix (nxn)\n",
    "        matrix1 = [parse.(Int, split(strip(readline(io)))) for _ in 1:n] |> x -> hcat(x...)\n",
    "        \n",
    "        # Skip the empty line\n",
    "        readline(io)\n",
    "\n",
    "        # Read the second matrix (nxn)\n",
    "        matrix2 = [parse.(Int, split(strip(readline(io)))) for _ in 1:n] |> x -> hcat(x...)\n",
    "        \n",
    "        # Check if there is an empty line before the third matrix\n",
    "        third_matrix = zeros(Int64, n, n)\n",
    "        next_line = readline(io, keep=false)\n",
    "        if next_line != \"\"\n",
    "            # If the next line is not empty, it's part of the third matrix\n",
    "            third_matrix = [parse.(Int, split(strip(next_line))) for _ in 1:n] |> x -> hcat(x...)\n",
    "        end\n",
    "        \n",
    "        return (n, matrix1, matrix2, third_matrix)\n",
    "    end\n",
    "end\n",
    "\n",
    "function cycle_graph_adjacency_matrix(n::Int, directed::Bool=true)\n",
    "    \"\"\"\n",
    "    Generates the adjacency matrix of a cycle graph of length n.\n",
    "\n",
    "    Args:\n",
    "        n (Int): The number of nodes in the cycle graph.\n",
    "        directed (Bool): If true, generates a directed cycle graph.\n",
    "                         If false, generates an undirected cycle graph.\n",
    "\n",
    "    Returns:\n",
    "        Array{Int64, 2}: The adjacency matrix of the cycle graph.\n",
    "    \"\"\"\n",
    "    # Initialize an n x n matrix with zeros\n",
    "    adj_matrix = zeros(Int, n, n)\n",
    "    \n",
    "    if directed\n",
    "        # Directed cycle graph\n",
    "        for i in 1:(n-1)\n",
    "            adj_matrix[i, i+1] = 1\n",
    "        end\n",
    "        adj_matrix[n, 1] = 1  # Last node connects to the first node\n",
    "    else\n",
    "        # Undirected cycle graph\n",
    "        for i in 1:(n-1)\n",
    "            adj_matrix[i, i+1] = 1\n",
    "            adj_matrix[i+1, i] = 1\n",
    "        end\n",
    "        adj_matrix[n, 1] = 1\n",
    "        adj_matrix[1, n] = 1  # Last node connects to the first node and vice versa\n",
    "    end\n",
    "    \n",
    "    return adj_matrix\n",
    "end\n",
    "\n",
    "function load_cnf(file_name)\n",
    "    c = Nothing\n",
    "    open(file_name) do file\n",
    "        for (idx, line) in enumerate(eachline(file))\n",
    "            if idx == 1\n",
    "                N = parse(Int32, split(line, \" \")[3])\n",
    "                M = parse(Int32, split(line, \" \")[4])\n",
    "                c = zeros(M,N)\n",
    "            else\n",
    "                variables = split(line, \" \")\n",
    "                for var_str in variables\n",
    "                    var = parse(Int32, var_str)\n",
    "                    if var != 0\n",
    "                        if var > 0\n",
    "                            c[idx-1, var] = 1\n",
    "                        elseif var < 0\n",
    "                            c[idx-1, -var] = -1\n",
    "                        end\n",
    "                    end\n",
    "                end\n",
    "            end\n",
    "        end\n",
    "    end\n",
    "    return c\n",
    "end\n",
    "\n",
    "function satisfied(spin_config, c)\n",
    "    function check_clause(row, state)\n",
    "        for (index,elem) in enumerate(row)\n",
    "            if elem == state[index]\n",
    "                return true\n",
    "            end\n",
    "        end\n",
    "    end\n",
    "\n",
    "    incorrect_flag = false\n",
    "    for clause in eachrow(c)\n",
    "        if check_clause(clause, spin_config) != true\n",
    "            incorrect_flag = true\n",
    "            break\n",
    "        end\n",
    "    end\n",
    "\n",
    "    if incorrect_flag\n",
    "        return false\n",
    "    end\n",
    "    return true\n",
    "end\n",
    "\n",
    "function round_to_nearest_pm1(x)\n",
    "    return x < 0.0 ? 0 : 1\n",
    "end\n",
    "\n",
    "function round_array_to_pm1(arr)\n",
    "    return map(round_to_nearest_pm1, arr)\n",
    "end\n",
    "\n",
    "condition(u, t, integrator) = satisfied([s>0 ? 1 : -1 for s in u], c)\n",
    "affect!(integrator) = terminate!(integrator)\n",
    "CTDS_cb = DiscreteCallback(condition, affect!);"
   ]
  },
  {
   "cell_type": "markdown",
   "metadata": {},
   "source": [
    "# The general quadratic assignment problem"
   ]
  },
  {
   "cell_type": "markdown",
   "metadata": {},
   "source": [
    "The objective is to minimize the following objective function\n",
    "$$\n",
    "\\min_{P\\in \\mathcal{P}_n} \\text{tr}\\left( A^T P^T B P + P^T C\\right)\n",
    "$$"
   ]
  },
  {
   "cell_type": "markdown",
   "metadata": {},
   "source": [
    "### Loading a problem"
   ]
  },
  {
   "cell_type": "code",
   "execution_count": 14,
   "metadata": {},
   "outputs": [],
   "source": [
    "#N, B, A, C = load_QAP_data(\"QAPs/my6.dat\");\n",
    "N, B, A, C = load_QAP_data(\"QAP_problems/nug12.dat\");\n",
    "\n",
    "#c = load_cnf(\"permutation_cnf/N\"*string(N)*\"s.cnf\")\n",
    "#M, N² = size(c)\n",
    "#k = map(row -> count(x -> x != 0, row), eachrow(c))\n",
    "#M₀ = OrthogonalMatrices(N);"
   ]
  },
  {
   "cell_type": "code",
   "execution_count": 15,
   "metadata": {},
   "outputs": [
    {
     "data": {
      "text/plain": [
       "cost_fnc (generic function with 1 method)"
      ]
     },
     "execution_count": 15,
     "metadata": {},
     "output_type": "execute_result"
    }
   ],
   "source": [
    "cost_fnc(P) = tr(A'*P'*B*P+P'*C)"
   ]
  },
  {
   "cell_type": "markdown",
   "metadata": {},
   "source": [
    "### Using conventional solver"
   ]
  },
  {
   "cell_type": "code",
   "execution_count": null,
   "metadata": {},
   "outputs": [
    {
     "name": "stderr",
     "output_type": "stream",
     "text": [
      "\u001b[32m\u001b[1mPrecompiling\u001b[22m\u001b[39m SCIP\n",
      "\u001b[32m  ✓ \u001b[39m\u001b[90mASL_jll\u001b[39m\n",
      "\u001b[32m  ✓ \u001b[39m\u001b[90mOpenBLAS32_jll\u001b[39m\n",
      "\u001b[32m  ✓ \u001b[39m\u001b[90mMETIS_jll\u001b[39m\n",
      "\u001b[32m  ✓ \u001b[39m\u001b[90mbliss_jll\u001b[39m\n",
      "\u001b[32m  ✓ \u001b[39m\u001b[90mHwloc_jll\u001b[39m\n",
      "\u001b[32m  ✓ \u001b[39m\u001b[90mNcurses_jll\u001b[39m\n",
      "\u001b[32m  ✓ \u001b[39m\u001b[90mboost_jll\u001b[39m\n",
      "\u001b[32m  ✓ \u001b[39m\u001b[90mReadline_jll\u001b[39m\n",
      "\u001b[32m  ✓ \u001b[39m\u001b[90mMUMPS_seq_jll\u001b[39m\n",
      "\u001b[32m  ✓ \u001b[39m\u001b[90mSPRAL_jll\u001b[39m\n",
      "\u001b[32m  ✓ \u001b[39m\u001b[90mIpopt_jll\u001b[39m\n",
      "\u001b[32m  ✓ \u001b[39m\u001b[90mSCIP_jll\u001b[39m\n",
      "\u001b[32m  ✓ \u001b[39m\u001b[90mSCIP_PaPILO_jll\u001b[39m\n"
     ]
    }
   ],
   "source": [
    "using JuMP\n",
    "using SCIP\n",
    "\n",
    "function optimize_cost_function(A::Matrix{Int64}, B::Matrix{Int64}, C::Matrix{Int64}, N::Int)\n",
    "    # Create a model with the SCIP solver\n",
    "    model = Model(SCIP.Optimizer)\n",
    "\n",
    "    # Define variables, each element of P can be 0 or 1 (boolean matrix)\n",
    "    @variable(model, P[i=1:N, j=1:N], Bin)\n",
    "\n",
    "    # Add constraints to ensure P is a permutation matrix\n",
    "    @constraint(model, [i=1:N], sum(P[i, j] for j in 1:N) == 1)  # Each row sums to 1\n",
    "    @constraint(model, [j=1:N], sum(P[i, j] for i in 1:N) == 1)  # Each column sums to 1\n",
    "\n",
    "    # Define the objective function to minimize the cost function\n",
    "    @objective(model, Min, tr(A'*P'*B*P+P'*C))\n",
    "\n",
    "    # Solve the model\n",
    "    optimize!(model)\n",
    "\n",
    "    # Extract the solution\n",
    "    optimal_P = value.(P)\n",
    "\n",
    "    return optimal_P\n",
    "end\n",
    "\n",
    "optimal_P = optimize_cost_function(A, B, C, N)\n",
    "\n",
    "println(\"Optimal P matrix:\")\n",
    "reshape(optimal_P, N, N)\n"
   ]
  },
  {
   "cell_type": "code",
   "execution_count": null,
   "metadata": {},
   "outputs": [],
   "source": []
  },
  {
   "cell_type": "code",
   "execution_count": null,
   "metadata": {},
   "outputs": [],
   "source": []
  },
  {
   "cell_type": "code",
   "execution_count": null,
   "metadata": {},
   "outputs": [],
   "source": []
  }
 ],
 "metadata": {
  "kernelspec": {
   "display_name": "Julia 1.10.4",
   "language": "julia",
   "name": "julia-1.10"
  },
  "language_info": {
   "file_extension": ".jl",
   "mimetype": "application/julia",
   "name": "julia",
   "version": "1.10.4"
  }
 },
 "nbformat": 4,
 "nbformat_minor": 4
}
